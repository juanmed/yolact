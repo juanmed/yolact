{
  "nbformat": 4,
  "nbformat_minor": 0,
  "metadata": {
    "colab": {
      "name": "Yolact.ipynb",
      "provenance": [],
      "authorship_tag": "ABX9TyMpINXvr8lR5lYQy2uwejns",
      "include_colab_link": true
    },
    "kernelspec": {
      "name": "python3",
      "display_name": "Python 3"
    },
    "language_info": {
      "name": "python"
    }
  },
  "cells": [
    {
      "cell_type": "markdown",
      "metadata": {
        "id": "view-in-github",
        "colab_type": "text"
      },
      "source": [
        "<a href=\"https://colab.research.google.com/github/juanmed/yolact/blob/debugging/Yolact.ipynb\" target=\"_parent\"><img src=\"https://colab.research.google.com/assets/colab-badge.svg\" alt=\"Open In Colab\"/></a>"
      ]
    },
    {
      "cell_type": "code",
      "execution_count": null,
      "metadata": {
        "id": "ffnqy88WVR2m"
      },
      "outputs": [],
      "source": [
        "#!git clone https://github.com/juanmed/yolact\n",
        "#!pip install cython\n",
        "#!pip install opencv-python pillow pycocotools matplotlib "
      ]
    },
    {
      "cell_type": "code",
      "source": [
        ""
      ],
      "metadata": {
        "id": "qEZ_XhBNVbt2"
      },
      "execution_count": null,
      "outputs": []
    }
  ]
}